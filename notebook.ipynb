{
  "cells": [
    {
      "metadata": {
        "_uuid": "c411bdbb340b91f4e6cce124a15399bf0e7338a5",
        "_cell_guid": "249acdc1-d112-42d4-bd33-7b17d427826a",
        "_execution_state": "idle"
      },
      "cell_type": "markdown",
      "source": "# Digit Recogniser using Vanilla Neural Networks#"
    },
    {
      "metadata": {
        "_uuid": "10bded3b671998d4c7d6b2f69edaaf2e6ffe96bc",
        "_cell_guid": "6c87ad95-9ba4-480c-8696-0a187d032517"
      },
      "cell_type": "markdown",
      "source": "We'll first import the relevant libraries\n1. Numpy for LA\n2. Pandas for CSV manipulation\n3. Scikit-Learn for Vanilla NN\n4. Seaborn and Matplotlib for data visualisation"
    },
    {
      "metadata": {
        "_uuid": "a4d08b1342879fb55d6fd3715e1de03412f70ec9",
        "_cell_guid": "fedbff69-15c9-4535-9065-40e40c5cec47",
        "_execution_state": "idle",
        "trusted": false,
        "collapsed": true
      },
      "cell_type": "code",
      "source": "# This Python 3 environment comes with many helpful analytics libraries installed\n# It is defined by the kaggle/python docker image: https://github.com/kaggle/docker-python\n# For example, here's several helpful packages to load in \n\nimport numpy as np # linear algebra\nimport pandas as pd # data processing, CSV file I/O (e.g. pd.read_csv)\n\nfrom sklearn.neural_network import MLPClassifier\nfrom sklearn.preprocessing import StandardScaler\n\nimport seaborn as sns \nimport matplotlib.pyplot as plt\n%matplotlib inline\n# Input data files are available in the \"../input/\" directory.\n# For example, running this (by clicking run or pressing Shift+Enter) will list the files in the input directory\n\nfrom subprocess import check_output\nprint(check_output([\"ls\", \"../input\"]).decode(\"utf8\"))\n\n# Any results you write to the current directory are saved as output.",
      "execution_count": null,
      "outputs": []
    },
    {
      "metadata": {
        "_uuid": "895a4a1ea22570147b5b2a6b7b73eca42295c22e",
        "_cell_guid": "8155fdf3-fcf6-41aa-97d7-210c77038f67"
      },
      "cell_type": "markdown",
      "source": "## Data Manipulation and visualisation##\n\nNow we'll read data and try to visualise how evenly it is  distributed"
    },
    {
      "metadata": {
        "_uuid": "c75835db908278a6f85e10c50fdaf2001b594e2b",
        "collapsed": true,
        "_cell_guid": "063d13d7-da88-4f95-85dd-418ef9561e4d",
        "_execution_state": "idle",
        "trusted": false
      },
      "cell_type": "code",
      "source": "train = pd.read_csv('../input/train.csv')\ntest = pd.read_csv('../input/test.csv')",
      "execution_count": null,
      "outputs": []
    },
    {
      "metadata": {
        "_uuid": "e6d825a9222dec4d59b9875bc35793996286ccbc",
        "collapsed": true,
        "_cell_guid": "d75e56d0-4f48-43cc-ac58-def875cc0575",
        "_execution_state": "idle",
        "trusted": false
      },
      "cell_type": "code",
      "source": "X = train.get_values()",
      "execution_count": null,
      "outputs": []
    },
    {
      "metadata": {
        "_uuid": "5839ad36e89c90990fc1fd9482ac08225d5b1b12",
        "collapsed": true,
        "_cell_guid": "fdba2645-d637-4737-8a7a-c6c6b70ff0db",
        "_execution_state": "idle",
        "trusted": false
      },
      "cell_type": "code",
      "source": "y = X[:, 0]\nX = X[:, 1:]",
      "execution_count": null,
      "outputs": []
    },
    {
      "metadata": {
        "_uuid": "11978a1cecf9540964de28398735704d65313f68",
        "_cell_guid": "ec0ed720-e227-4733-bc6d-68ff4693cf51",
        "_execution_state": "idle",
        "trusted": false,
        "collapsed": true
      },
      "cell_type": "code",
      "source": "sns.distplot(y, bins=10, kde=False)",
      "execution_count": null,
      "outputs": []
    },
    {
      "metadata": {
        "_uuid": "465739837d7e4827dfe6dcb04f2ead1b9b8bb7dd",
        "_cell_guid": "bc069788-766f-4f29-b7a2-386c8d821f54"
      },
      "cell_type": "markdown",
      "source": "So it turns out the data is  evenly distributed, which is pretty good"
    },
    {
      "metadata": {
        "_uuid": "ee86463153927b8ebdf1210e6721ab8f48673524",
        "_cell_guid": "27cb596e-224d-49e4-92cf-72361e8e0c5f"
      },
      "cell_type": "markdown",
      "source": "## Classification ##\n\nNow we have almost completed the main work and what's left is classification.\nI am using a vanilla NN here but we could've used a CNN as well. Considering it's my first time I think we should keep things light and simple.\n\nSo here's how we'll go about doing this\n1. We first normalise the data\n2. We train the NN on the input data\n3. Then run it on test set and output the result"
    },
    {
      "metadata": {
        "_uuid": "e1457d0b335a8db712066e5d83ee1c4e003285b5",
        "_cell_guid": "a60359dc-9aee-444e-a25c-042ed589c920",
        "_execution_state": "idle",
        "trusted": false,
        "collapsed": true
      },
      "cell_type": "code",
      "source": "scaler = StandardScaler()\nscaler.fit(X)\nX = scaler.transform(X)",
      "execution_count": null,
      "outputs": []
    },
    {
      "metadata": {
        "_uuid": "9b5b264ab24ed18ddd069e448b91b4ed8bfa00ed",
        "collapsed": true,
        "_cell_guid": "a2fda8a5-586e-4803-a489-2adddc66e92d",
        "_execution_state": "idle",
        "trusted": false
      },
      "cell_type": "code",
      "source": "clf = MLPClassifier(solver = 'lbfgs', alpha = 1e-5, hidden_layer_sizes = (100))",
      "execution_count": null,
      "outputs": []
    },
    {
      "metadata": {
        "_uuid": "dac1832dad0be0f81a0f1f7e967e651633ce1f5a",
        "_cell_guid": "a40e30f2-c654-440e-a0d7-538dca16da61",
        "_execution_state": "busy",
        "trusted": false,
        "collapsed": true
      },
      "cell_type": "code",
      "source": "clf.fit(X, y)",
      "execution_count": null,
      "outputs": []
    },
    {
      "metadata": {
        "_uuid": "5c159181de1632ec927c8b0941359ef860b8a8e9",
        "collapsed": true,
        "_cell_guid": "c5304a0f-ec06-4c40-ae54-ef68641e8add",
        "_execution_state": "busy",
        "trusted": false
      },
      "cell_type": "code",
      "source": "X_test = test.get_values()\nX_test = scaler.transform(X_test)\ny_test = clf.predict(X_test)",
      "execution_count": null,
      "outputs": []
    },
    {
      "metadata": {
        "_uuid": "911309f768ea73c1c1eda435ba137e8f6444c7a7",
        "collapsed": true,
        "_cell_guid": "e7f0d514-8459-408a-a6b8-212ac400cb34",
        "_execution_state": "busy",
        "trusted": false
      },
      "cell_type": "code",
      "source": "output = pd.DataFrame(y_test, columns = ['Label'])\noutput.reset_index(inplace = True)\noutput.rename(columns = {'index' : 'ImageId'}, inplace = True)\noutput['ImageId'] = output['ImageId'] + 1\noutput.to_csv('output.csv', index = False)",
      "execution_count": null,
      "outputs": []
    },
    {
      "metadata": {
        "_uuid": "aea245d6e99aac9f0fbda8a8c6aa48e732aa3d8d",
        "_cell_guid": "0ad9bee8-b75e-43e0-b3ab-4833d7837a3c",
        "collapsed": true,
        "trusted": false
      },
      "cell_type": "code",
      "source": "",
      "execution_count": null,
      "outputs": []
    },
    {
      "metadata": {
        "_uuid": "73a0d957d0680d11c0c427897c87d7aede3e1752",
        "_cell_guid": "379cc088-8d72-4ecb-9fbb-4aa92308c6f9",
        "collapsed": true,
        "trusted": false
      },
      "cell_type": "code",
      "source": "",
      "execution_count": null,
      "outputs": []
    },
    {
      "metadata": {
        "_uuid": "4ebb439244cb419f57fb7f8ca81def89a40405b3",
        "_cell_guid": "9e40b4d6-7290-4ee2-af0f-1352b43d0362",
        "collapsed": true,
        "trusted": false
      },
      "cell_type": "code",
      "source": "",
      "execution_count": null,
      "outputs": []
    },
    {
      "metadata": {
        "_uuid": "43163bf6a6344673177b24d1a3a36fb54acac5a1",
        "_cell_guid": "8abf5373-3cce-4258-95c9-095ff9c5d585",
        "collapsed": true,
        "trusted": false
      },
      "cell_type": "code",
      "source": "",
      "execution_count": null,
      "outputs": []
    },
    {
      "metadata": {
        "_uuid": "69a654f91cb90c9205aca30c5303b65dfa248141",
        "_cell_guid": "96ffc910-a19f-4ebb-8e55-b55c1e0ada37",
        "collapsed": true,
        "trusted": false
      },
      "cell_type": "code",
      "source": "",
      "execution_count": null,
      "outputs": []
    },
    {
      "metadata": {
        "_uuid": "5f7bd2949e2c01e70910ac217ef7cf0653bd639f",
        "_cell_guid": "028a3b3d-69ab-42b0-9cbd-90de4e0079f4",
        "collapsed": true,
        "trusted": false
      },
      "cell_type": "code",
      "source": "",
      "execution_count": null,
      "outputs": []
    },
    {
      "metadata": {
        "_uuid": "4b63aa08e704eb61467f39549a2c2f5a68931da3",
        "_cell_guid": "c4972521-be06-484c-836b-6c25d68465d5",
        "collapsed": true,
        "trusted": false
      },
      "cell_type": "code",
      "source": "",
      "execution_count": null,
      "outputs": []
    },
    {
      "metadata": {
        "_uuid": "cfe189c734a18f32da667f50ead6980e33eb0a11",
        "_cell_guid": "253ab51a-ee02-4868-8858-b7e64dcc2211",
        "collapsed": true,
        "trusted": false
      },
      "cell_type": "code",
      "source": "",
      "execution_count": null,
      "outputs": []
    }
  ],
  "metadata": {
    "kernelspec": {
      "display_name": "Python 3",
      "language": "python",
      "name": "python3"
    },
    "language_info": {
      "version": "3.6.4",
      "mimetype": "text/x-python",
      "codemirror_mode": {
        "version": 3,
        "name": "ipython"
      },
      "name": "python",
      "nbconvert_exporter": "python",
      "pygments_lexer": "ipython3",
      "file_extension": ".py"
    }
  },
  "nbformat": 4,
  "nbformat_minor": 1
}