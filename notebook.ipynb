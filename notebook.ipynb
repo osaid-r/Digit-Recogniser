{
 "cells": [
  {
   "cell_type": "markdown",
   "metadata": {
    "_cell_guid": "249acdc1-d112-42d4-bd33-7b17d427826a",
    "_execution_state": "idle",
    "_uuid": "c411bdbb340b91f4e6cce124a15399bf0e7338a5"
   },
   "source": [
    "# Digit Recogniser using Vanilla Neural Networks#"
   ]
  },
  {
   "cell_type": "markdown",
   "metadata": {
    "_cell_guid": "6c87ad95-9ba4-480c-8696-0a187d032517",
    "_uuid": "10bded3b671998d4c7d6b2f69edaaf2e6ffe96bc"
   },
   "source": [
    "We'll first import the relevant libraries\n",
    "1. Numpy for LA\n",
    "2. Pandas for CSV manipulation\n",
    "3. Scikit-Learn for Vanilla NN\n",
    "4. Seaborn and Matplotlib for data visualisation"
   ]
  },
  {
   "cell_type": "code",
   "execution_count": 1,
   "metadata": {
    "_cell_guid": "fedbff69-15c9-4535-9065-40e40c5cec47",
    "_execution_state": "idle",
    "_uuid": "a4d08b1342879fb55d6fd3715e1de03412f70ec9"
   },
   "outputs": [],
   "source": [
    "# This Python 3 environment comes with many helpful analytics libraries installed\n",
    "# It is defined by the kaggle/python docker image: https://github.com/kaggle/docker-python\n",
    "# For example, here's several helpful packages to load in \n",
    "\n",
    "import numpy as np # linear algebra\n",
    "import pandas as pd # data processing, CSV file I/O (e.g. pd.read_csv)\n",
    "\n",
    "from sklearn.neural_network import MLPClassifier\n",
    "from sklearn.preprocessing import StandardScaler\n",
    "\n",
    "import seaborn as sns \n",
    "import matplotlib.pyplot as plt\n",
    "%matplotlib inline\n",
    "# Input data files are available in the \"../input/\" directory.\n",
    "\n",
    "# Any results you write to the current directory are saved as output."
   ]
  },
  {
   "cell_type": "markdown",
   "metadata": {
    "_cell_guid": "8155fdf3-fcf6-41aa-97d7-210c77038f67",
    "_uuid": "895a4a1ea22570147b5b2a6b7b73eca42295c22e"
   },
   "source": [
    "## Data Manipulation and visualisation##\n",
    "\n",
    "Now we'll read data and try to visualise how evenly it is  distributed"
   ]
  },
  {
   "cell_type": "code",
   "execution_count": 2,
   "metadata": {
    "_cell_guid": "063d13d7-da88-4f95-85dd-418ef9561e4d",
    "_execution_state": "idle",
    "_uuid": "c75835db908278a6f85e10c50fdaf2001b594e2b",
    "collapsed": true
   },
   "outputs": [],
   "source": [
    "train = pd.read_csv('../input/train.csv')\n",
    "test = pd.read_csv('../input/test.csv')"
   ]
  },
  {
   "cell_type": "code",
   "execution_count": 3,
   "metadata": {
    "_cell_guid": "d75e56d0-4f48-43cc-ac58-def875cc0575",
    "_execution_state": "idle",
    "_uuid": "e6d825a9222dec4d59b9875bc35793996286ccbc",
    "collapsed": true
   },
   "outputs": [],
   "source": [
    "X = train.get_values()"
   ]
  },
  {
   "cell_type": "code",
   "execution_count": 4,
   "metadata": {
    "_cell_guid": "fdba2645-d637-4737-8a7a-c6c6b70ff0db",
    "_execution_state": "idle",
    "_uuid": "5839ad36e89c90990fc1fd9482ac08225d5b1b12",
    "collapsed": true
   },
   "outputs": [],
   "source": [
    "y = X[:, 0]\n",
    "X = X[:, 1:]"
   ]
  },
  {
   "cell_type": "code",
   "execution_count": 5,
   "metadata": {
    "_cell_guid": "ec0ed720-e227-4733-bc6d-68ff4693cf51",
    "_execution_state": "idle",
    "_uuid": "11978a1cecf9540964de28398735704d65313f68"
   },
   "outputs": [
    {
     "data": {
      "text/plain": [
       "<matplotlib.axes._subplots.AxesSubplot at 0x12c593588>"
      ]
     },
     "execution_count": 5,
     "metadata": {},
     "output_type": "execute_result"
    },
    {
     "data": {
      "image/png": "[encoded data removed]",
      "text/plain": [
       "<matplotlib.figure.Figure at 0x11ab5dcc0>"
      ]
     },
     "metadata": {},
     "output_type": "display_data"
    }
   ],
   "source": [
    "sns.distplot(y, bins=10, kde=False)"
   ]
  },
  {
   "cell_type": "markdown",
   "metadata": {
    "_cell_guid": "bc069788-766f-4f29-b7a2-386c8d821f54",
    "_uuid": "465739837d7e4827dfe6dcb04f2ead1b9b8bb7dd"
   },
   "source": [
    "So it turns out the data is  evenly distributed, which is pretty good"
   ]
  },
  {
   "cell_type": "markdown",
   "metadata": {
    "_cell_guid": "27cb596e-224d-49e4-92cf-72361e8e0c5f",
    "_uuid": "ee86463153927b8ebdf1210e6721ab8f48673524"
   },
   "source": [
    "## Classification ##\n",
    "\n",
    "Now we have almost completed the main work and what's left is classification.\n",
    "I am using a vanilla NN here but we could've used a CNN as well. Considering it's my first time I think we should keep things light and simple.\n",
    "\n",
    "So here's how we'll go about doing this\n",
    "1. We first normalise the data\n",
    "2. We train the NN on the input data\n",
    "3. Then run it on test set and output the result"
   ]
  },
  {
   "cell_type": "code",
   "execution_count": 6,
   "metadata": {
    "_cell_guid": "a60359dc-9aee-444e-a25c-042ed589c920",
    "_execution_state": "idle",
    "_uuid": "e1457d0b335a8db712066e5d83ee1c4e003285b5"
   },
   "outputs": [
    {
     "name": "stderr",
     "output_type": "stream",
     "text": [
      "/Users/osaidrehmannasir/anaconda3/lib/python3.6/site-packages/sklearn/utils/validation.py:429: DataConversionWarning: Data with input dtype int64 was converted to float64 by StandardScaler.\n",
      "  warnings.warn(msg, _DataConversionWarning)\n"
     ]
    }
   ],
   "source": [
    "scaler = StandardScaler()\n",
    "scaler.fit(X)\n",
    "X = scaler.transform(X)"
   ]
  },
  {
   "cell_type": "code",
   "execution_count": 7,
   "metadata": {
    "_cell_guid": "a2fda8a5-586e-4803-a489-2adddc66e92d",
    "_execution_state": "idle",
    "_uuid": "9b5b264ab24ed18ddd069e448b91b4ed8bfa00ed",
    "collapsed": true
   },
   "outputs": [],
   "source": [
    "clf = MLPClassifier(solver = 'lbfgs', alpha = 1e-5, hidden_layer_sizes = (1000))"
   ]
  },
  {
   "cell_type": "code",
   "execution_count": 8,
   "metadata": {
    "_cell_guid": "a40e30f2-c654-440e-a0d7-538dca16da61",
    "_execution_state": "busy",
    "_uuid": "dac1832dad0be0f81a0f1f7e967e651633ce1f5a"
   },
   "outputs": [
    {
     "data": {
      "text/plain": [
       "MLPClassifier(activation='relu', alpha=1e-05, batch_size='auto', beta_1=0.9,\n",
       "       beta_2=0.999, early_stopping=False, epsilon=1e-08,\n",
       "       hidden_layer_sizes=10, learning_rate='constant',\n",
       "       learning_rate_init=0.001, max_iter=200, momentum=0.9,\n",
       "       nesterovs_momentum=True, power_t=0.5, random_state=None,\n",
       "       shuffle=True, solver='lbfgs', tol=0.0001, validation_fraction=0.1,\n",
       "       verbose=False, warm_start=False)"
      ]
     },
     "execution_count": 8,
     "metadata": {},
     "output_type": "execute_result"
    }
   ],
   "source": [
    "clf.fit(X, y)"
   ]
  },
  {
   "cell_type": "code",
   "execution_count": 9,
   "metadata": {
    "_cell_guid": "c5304a0f-ec06-4c40-ae54-ef68641e8add",
    "_execution_state": "busy",
    "_uuid": "5c159181de1632ec927c8b0941359ef860b8a8e9"
   },
   "outputs": [
    {
     "name": "stderr",
     "output_type": "stream",
     "text": [
      "/Users/osaidrehmannasir/anaconda3/lib/python3.6/site-packages/sklearn/utils/validation.py:429: DataConversionWarning: Data with input dtype int64 was converted to float64 by StandardScaler.\n",
      "  warnings.warn(msg, _DataConversionWarning)\n"
     ]
    }
   ],
   "source": [
    "X_test = test.get_values()\n",
    "X_test = scaler.transform(X_test)\n",
    "y_test = clf.predict(X_test)"
   ]
  },
  {
   "cell_type": "code",
   "execution_count": 10,
   "metadata": {
    "_cell_guid": "e7f0d514-8459-408a-a6b8-212ac400cb34",
    "_execution_state": "busy",
    "_uuid": "911309f768ea73c1c1eda435ba137e8f6444c7a7",
    "collapsed": true
   },
   "outputs": [],
   "source": [
    "output = pd.DataFrame(y_test, columns = ['Label'])\n",
    "output.reset_index(inplace = True)\n",
    "output.rename(columns = {'index' : 'ImageId'}, inplace = True)\n",
    "output['ImageId'] = output['ImageId'] + 1\n",
    "output.to_csv('output.csv', index = False)"
   ]
  }
 ],
 "metadata": {
  "kernelspec": {
   "display_name": "Python 3",
   "language": "python",
   "name": "python3"
  },
  "language_info": {
   "codemirror_mode": {
    "name": "ipython",
    "version": 3
   },
   "file_extension": ".py",
   "mimetype": "text/x-python",
   "name": "python",
   "nbconvert_exporter": "python",
   "pygments_lexer": "ipython3",
   "version": "3.6.1"
  }
 },
 "nbformat": 4,
 "nbformat_minor": 1
}
